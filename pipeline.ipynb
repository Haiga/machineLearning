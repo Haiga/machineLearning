{
 "cells": [
  {
   "cell_type": "code",
   "execution_count": 166,
   "metadata": {},
   "outputs": [
    {
     "name": "stdout",
     "output_type": "stream",
     "text": [
      "<class 'pandas.core.frame.DataFrame'>\n",
      "RangeIndex: 20640 entries, 0 to 20639\n",
      "Data columns (total 10 columns):\n",
      "longitude             20640 non-null float64\n",
      "latitude              20640 non-null float64\n",
      "housing_median_age    20640 non-null float64\n",
      "total_rooms           20640 non-null float64\n",
      "total_bedrooms        20433 non-null float64\n",
      "population            20640 non-null float64\n",
      "households            20640 non-null float64\n",
      "median_income         20640 non-null float64\n",
      "median_house_value    20640 non-null float64\n",
      "ocean_proximity       20640 non-null object\n",
      "dtypes: float64(9), object(1)\n",
      "memory usage: 1.6+ MB\n",
      "OK\n"
     ]
    }
   ],
   "source": [
    "#Utilizada no Pipeline\n",
    "\n",
    "import os\n",
    "import tarfile\n",
    "from six.moves import urllib\n",
    "DOWNLOAD_ROOT = \"https://raw.githubusercontent.com/ageron/handson-ml/master/\"\n",
    "HOUSING_PATH = \"datasets/housing\"\n",
    "HOUSING_URL = DOWNLOAD_ROOT + HOUSING_PATH + \"/housing.tgz\"\n",
    "def fetch_housing_data(housing_url=HOUSING_URL, housing_path=HOUSING_PATH):\n",
    "    if not os.path.isdir(housing_path):\n",
    "        os.makedirs(housing_path)\n",
    "        \n",
    "    tgz_path = os.path.join(housing_path, \"housing.tgz\")\n",
    "    urllib.request.urlretrieve(housing_url, tgz_path)\n",
    "    housing_tgz = tarfile.open(tgz_path)\n",
    "    housing_tgz.extractall(path=housing_path)\n",
    "    housing_tgz.close()\n",
    "\n",
    "fetch_housing_data()\n",
    "import matplotlib\n",
    "import pandas as pd\n",
    "def load_housing_data(housing_path=HOUSING_PATH):\n",
    "    csv_path = os.path.join(housing_path, \"housing.csv\")\n",
    "    #x = pd.read_csv(csv_path)\n",
    "    return pd.read_csv(csv_path)#x.drop(\"total_bedrooms\", axis=1)\n",
    "housing = load_housing_data()\n",
    "housing.info()\n",
    "print(\"OK\")"
   ]
  },
  {
   "cell_type": "code",
   "execution_count": 167,
   "metadata": {},
   "outputs": [
    {
     "name": "stdout",
     "output_type": "stream",
     "text": [
      "OK\n"
     ]
    }
   ],
   "source": [
    "\n",
    "#Converte a Feature ocean proximity in 5 novas Features Binárias para cada uma de suas características\n",
    "from sklearn.preprocessing import LabelBinarizer\n",
    "import pandas as pd\n",
    "class BinarizeAttributes():\n",
    "    def fit(self, X, y=None):\n",
    "        return self\n",
    "    def transform(self, X, y=None):\n",
    "        return self.fit_transform\n",
    "    def fit_transform(self, X, y=None):\n",
    "        try:\n",
    "            s = pd.Series(X[\"ocean_proximity\"], dtype=\"category\")\n",
    "            categories = s.cat.categories\n",
    "            data = X.join(pd.DataFrame(LabelBinarizer().fit_transform(X[\"ocean_proximity\"]),index=X.index))\n",
    "            return data.drop(\"ocean_proximity\", axis=1)\n",
    "        except:\n",
    "            return X\n",
    "print(\"OK\")"
   ]
  },
  {
   "cell_type": "code",
   "execution_count": 168,
   "metadata": {},
   "outputs": [],
   "source": [
    "###Original 2\n",
    "##Imputer completa as features incompletas com a mediana #nesse caso\n",
    "#from sklearn.preprocessing import Imputer\n",
    "#imputer = Imputer(strategy=\"median\")\n",
    "#housing = housing.drop(\"ocean_proximity\", axis=1)\n",
    "#imputer.fit(housing)\n",
    "#X = imputer.transform(housing)\n",
    "#housing_tr = pd.DataFrame(X, columns=housing.columns)\n",
    "#print(\"OK\")"
   ]
  },
  {
   "cell_type": "code",
   "execution_count": 169,
   "metadata": {},
   "outputs": [
    {
     "name": "stdout",
     "output_type": "stream",
     "text": [
      "OK\n"
     ]
    }
   ],
   "source": [
    "#Utilizada no Pipeline para Separar os dados(teste e treino) com base no atributo media_income\n",
    "import numpy as np\n",
    "import pandas as pd\n",
    "from sklearn.model_selection import StratifiedShuffleSplit\n",
    "class StratDataTrain():\n",
    "    def fit(self, X, y=None):\n",
    "        return self\n",
    "    def transform(self, X, y=None):\n",
    "        return self.fit_transform\n",
    "    def fit_transform(self, X, y=None):\n",
    "        X[\"income_cat\"] = np.ceil((X[\"median_income\"])/1.5)\n",
    "        X[\"income_cat\"].where(X[\"income_cat\"] < 5, 5.0, inplace=True)\n",
    "        \n",
    "        split = StratifiedShuffleSplit(n_splits=1, test_size=0.2, random_state=42)\n",
    "        for train_index, test_index in split.split(X, X[\"income_cat\"]):\n",
    "            strat_train_set = X.loc[train_index]\n",
    "            strat_test_set = X.loc[test_index]\n",
    "        for set_ in (strat_train_set, strat_test_set):\n",
    "            set_.drop(\"income_cat\", axis=1, inplace=True)\n",
    "        return strat_train_set.drop(\"median_house_value\", axis=1)\n",
    "    \n",
    "#Utilizada no Pipeline para Separar os dados (teste e treino) porém não viesada\n",
    "class StratDataTest():\n",
    "    def fit(self, X, y=None):\n",
    "        return self\n",
    "    def transform(self, X, y=None):\n",
    "        return self.fit_transform\n",
    "    def fit_transform(self, X, y=None):\n",
    "        temp = X.drop(\"median_house_value\", axis=1)\n",
    "        return temp#.drop(\"income_cat\", axis=1)\n",
    "        \n",
    "print(\"OK\")"
   ]
  },
  {
   "cell_type": "code",
   "execution_count": 170,
   "metadata": {},
   "outputs": [
    {
     "name": "stdout",
     "output_type": "stream",
     "text": [
      "OK\n"
     ]
    }
   ],
   "source": [
    "#Utilizada no Pipeline\n",
    "\n",
    "###Convertendo features em features mais significativas\n",
    "from sklearn.base import BaseEstimator, TransformerMixin\n",
    "rooms_ix, bedrooms_ix, population_ix, household_ix = 3, 4, 5, 6\n",
    "class CombinedAttributesAdder(BaseEstimator, TransformerMixin):\n",
    "    def __init__(self, add_bedrooms_per_room = True): # no *args or **kargs\n",
    "        self.add_bedrooms_per_room = add_bedrooms_per_room\n",
    "    def fit(self, X, y=None):\n",
    "        return self # nothing else to do\n",
    "    def transform(self, X, y=None):\n",
    "        rooms_per_household = X[:, rooms_ix] / X[:, household_ix]\n",
    "        population_per_household = X[:, population_ix] / X[:, household_ix]\n",
    "        if self.add_bedrooms_per_room:\n",
    "            bedrooms_per_room = X[:, bedrooms_ix] / X[:, rooms_ix]\n",
    "            return np.c_[X, rooms_per_household, population_per_household, bedrooms_per_room]\n",
    "        else:\n",
    "            return np.c_[X, rooms_per_household, population_per_household]\n",
    "attr_adder = CombinedAttributesAdder(add_bedrooms_per_room=False)\n",
    "attr_adder.fit(housing.values)\n",
    "x = attr_adder.transform(housing.values)\n",
    "print(\"OK\")"
   ]
  },
  {
   "cell_type": "code",
   "execution_count": 171,
   "metadata": {},
   "outputs": [
    {
     "name": "stdout",
     "output_type": "stream",
     "text": [
      "OK\n"
     ]
    }
   ],
   "source": [
    "from sklearn.pipeline import Pipeline\n",
    "from sklearn.preprocessing import StandardScaler\n",
    "from sklearn.base import BaseEstimator, TransformerMixin\n",
    "from sklearn.preprocessing import Imputer\n",
    "from sklearn.preprocessing import StandardScaler\n",
    "from sklearn.pipeline import FeatureUnion\n",
    "from sklearn.preprocessing import LabelBinarizer \n",
    "#Pipeline para ser usado com classificação\n",
    "num_pipeline = Pipeline([\n",
    "    ('labels_binarize', BinarizeAttributes()),\n",
    "    ('strat', StratDataTrain()),\n",
    "    ('imputer', Imputer(strategy=\"median\")),\n",
    "    ('attribs_adder', CombinedAttributesAdder()),\n",
    "    ('std_scaler', StandardScaler()),])\n",
    "\n",
    "#Pipeline para ser usado sem classificação\n",
    "num_pipeline_no_strat = Pipeline([\n",
    "    ('labels_binarize', BinarizeAttributes()),\n",
    "    ('strat', StratDataTest()),\n",
    "    ('imputer', Imputer(strategy=\"median\")),\n",
    "    ('attribs_adder', CombinedAttributesAdder()),\n",
    "    ('std_scaler', StandardScaler()),])\n",
    "print(\"OK\")"
   ]
  },
  {
   "cell_type": "code",
   "execution_count": 172,
   "metadata": {},
   "outputs": [
    {
     "name": "stdout",
     "output_type": "stream",
     "text": [
      "OK\n"
     ]
    }
   ],
   "source": [
    "from sklearn.linear_model import LinearRegression\n",
    "from sklearn.metrics import mean_squared_error\n",
    "from sklearn.tree import DecisionTreeRegressor\n",
    "from sklearn.ensemble import RandomForestRegressor\n",
    "from sklearn.model_selection import StratifiedShuffleSplit\n",
    "from sklearn.model_selection import train_test_split\n",
    "#train_set, test_set = train_test_split(housing, test_size=0.2, random_state=42)\n",
    "\n",
    "def avaliar(test, classfier):\n",
    "    housing = load_housing_data()\n",
    "    housing[\"income_cat\"] = np.ceil(housing[\"median_income\"] / 1.5)\n",
    "    housing[\"income_cat\"].where(housing[\"income_cat\"] < 5, 5.0, inplace=True)\n",
    "    split = StratifiedShuffleSplit(n_splits=1, test_size=0.2, random_state=42)\n",
    "    for train_index, test_index in split.split(housing, housing[\"income_cat\"]):\n",
    "        strat_train_set = housing.loc[train_index]\n",
    "        strat_test_set = housing.loc[test_index]\n",
    "\n",
    "    for set_ in (strat_train_set, strat_test_set):\n",
    "        set_.drop(\"income_cat\", axis=1, inplace=True)\n",
    "    train_set = strat_train_set.drop(\"median_house_value\", axis=1)\n",
    "    train_set_labels = strat_train_set[\"median_house_value\"].copy()\n",
    "\n",
    "    test_set = strat_test_set#.drop(\"income_cat\", axis=1)\n",
    "    test_set_labels = strat_test_set[\"median_house_value\"].copy()\n",
    "\n",
    "    if(test==1):\n",
    "        if(classfier==1):\n",
    "            housingX = num_pipeline.fit_transform(load_housing_data())\n",
    "            housingY = train_set_labels\n",
    "            \n",
    "            housing_testX = num_pipeline_no_strat.fit_transform(test_set)\n",
    "            housing_testY = test_set_labels\n",
    "        else:\n",
    "            train_set, test_set = train_test_split(load_housing_data(), test_size=0.2, random_state=42)\n",
    "            train_set_labels = train_set[\"median_house_value\"].copy()\n",
    "            test_set_labels = test_set[\"median_house_value\"].copy()\n",
    "            \n",
    "            housingX = num_pipeline_no_strat.fit_transform(train_set)\n",
    "            housingY = train_set_labels\n",
    "\n",
    "            housing_testX = num_pipeline_no_strat.fit_transform(test_set)\n",
    "            housing_testY = test_set_labels\n",
    "        \n",
    "    else:\n",
    "        if(classfier==1):\n",
    "            housingX = num_pipeline.fit_transform(load_housing_data())\n",
    "            #train_set, test_set = train_test_split(load_housing_data(), test_size=0.2, random_state=42)\n",
    "            housingY = train_set_labels\n",
    "        else:\n",
    "            train_set, test_set = train_test_split(load_housing_data(), test_size=0.2, random_state=42)\n",
    "            train_set_labels = train_set[\"median_house_value\"].copy()\n",
    "            test_set_labels = test_set[\"median_house_value\"].copy()\n",
    "            \n",
    "            housingX = num_pipeline_no_strat.fit_transform(train_set)\n",
    "            housingY = train_set_labels\n",
    "        #housingX = num_pipeline.fit_transform(load_housing_data())\n",
    "        #housingY = train_set_labels\n",
    "        housing_testX = housingX\n",
    "        housing_testY = housingY\n",
    "    \n",
    "\n",
    "    lin_reg = LinearRegression()\n",
    "    lin_reg.fit(housingX, housingY)\n",
    "    housing_predictions = lin_reg.predict(housing_testX)\n",
    "    lin_mse = mean_squared_error(housing_testY, housing_predictions)\n",
    "    lin_rmse = np.sqrt(lin_mse)\n",
    "    #lin_rmse\n",
    "\n",
    "    tree_reg = DecisionTreeRegressor()\n",
    "    tree_reg.fit(housingX, housingY)\n",
    "    housing_predictions = tree_reg.predict(housing_testX)\n",
    "    tree_mse = mean_squared_error(housing_testY, housing_predictions)\n",
    "    tree_rmse = np.sqrt(tree_mse)\n",
    "    #tree_rmse\n",
    "\n",
    "    rf = RandomForestRegressor()\n",
    "    rf.fit(housingX, housingY)\n",
    "    housing_predictions = rf.predict(housing_testX)\n",
    "    rf_mse = mean_squared_error(housing_testY, housing_predictions)\n",
    "    rf_rmse = np.sqrt(rf_mse)\n",
    "    #rf_rmse\n",
    "    return [lin_rmse, tree_rmse, rf_rmse]\n",
    "print(\"OK\")"
   ]
  },
  {
   "cell_type": "code",
   "execution_count": null,
   "metadata": {},
   "outputs": [],
   "source": []
  },
  {
   "cell_type": "code",
   "execution_count": 173,
   "metadata": {},
   "outputs": [
    {
     "data": {
      "image/png": "[encoded data removed]",
      "text/plain": [
       "<Figure size 432x288 with 1 Axes>"
      ]
     },
     "metadata": {},
     "output_type": "display_data"
    },
    {
     "name": "stdout",
     "output_type": "stream",
     "text": [
      "Desvios padrão:\n",
      "Reg. Linear\t 68700.1\n",
      "Arv. Decisão\t 0.0\n",
      "Rand Forest\t 22533.8\n"
     ]
    }
   ],
   "source": [
    "\n",
    "eixox = np.arange(3)\n",
    "eixoy = avaliar(0,1)\n",
    "%matplotlib inline \n",
    "\n",
    "def millions(x, pos):\n",
    "    'The two args are the value and tick position'\n",
    "    return '%1.1f' % (x * 1e-4)\n",
    "from matplotlib.ticker import FuncFormatter\n",
    "import matplotlib.pyplot as plt\n",
    "#formatter = FuncFormatter(millions)###BATSA REMOVER ESTE\n",
    "fig, ax = plt.subplots()\n",
    "#ax.yaxis.set_major_formatter(formatter)\n",
    "plt.bar(eixox, eixoy)\n",
    "plt.xticks(eixox, ('Reg. Linear', 'Arv. Decisão', 'Rand Forest'))\n",
    "plt.title(\"Desvio Padrão com classificação, e teste igual ao treino\\n\")\n",
    "plt.show()\n",
    "\n",
    "print(\"Desvios padrão:\")\n",
    "print('Reg. Linear\\t %1.1f' % (eixoy[0]))\n",
    "print('Arv. Decisão\\t %1.1f' % (eixoy[1]))\n",
    "print('Rand Forest\\t %1.1f' % (eixoy[2]))"
   ]
  },
  {
   "cell_type": "code",
   "execution_count": 174,
   "metadata": {},
   "outputs": [
    {
     "name": "stdout",
     "output_type": "stream",
     "text": [
      "Desvio Padrão com classificação e teste diferente do treino\n"
     ]
    },
    {
     "data": {
      "text/plain": [
       "<Figure size 432x288 with 0 Axes>"
      ]
     },
     "metadata": {},
     "output_type": "display_data"
    },
    {
     "data": {
      "image/png": "[encoded data removed]",
      "text/plain": [
       "<Figure size 432x288 with 2 Axes>"
      ]
     },
     "metadata": {},
     "output_type": "display_data"
    },
    {
     "name": "stdout",
     "output_type": "stream",
     "text": [
      "Desvios padrão:\n",
      "Reg. Linear\t 61889222806062024.0\n",
      "Arv. Decisão\t 108802.7\n",
      "Rand Forest\t 86716.7\n"
     ]
    }
   ],
   "source": [
    "eixox = np.arange(3)\n",
    "eixoy = avaliar(1, 1)\n",
    "%matplotlib inline \n",
    "\n",
    "def millions(x, pos):\n",
    "    'The two args are the value and tick position'\n",
    "    return '%1.1f' % (x * 1e-4)\n",
    "from matplotlib.ticker import FuncFormatter\n",
    "import matplotlib.pyplot as plt\n",
    "#formatter = FuncFormatter(millions)###BATSA REMOVER ESTE\n",
    "plt.figure(1)\n",
    "fig, ax = plt.subplots()\n",
    "#ax.yaxis.set_major_formatter(formatter)\n",
    "plt.subplot(231)\n",
    "plt.bar(eixox, eixoy)\n",
    "plt.xticks(eixox, ('Reg. Linear', 'Arv. Decisão', 'Rand Forest'), rotation='vertical')\n",
    "#plt.title(\"Desvio Padrão c/ classificação c/ teste != treino\")\n",
    "\n",
    "plt.subplot(233)\n",
    "plt.bar(eixox[1:], eixoy[1:])\n",
    "plt.xticks(eixox, (' ','Arv. Decisão', 'Rand Forest'), rotation='vertical')\n",
    "#plt.title(\"Desvio Padrão c/ classificação c/ teste != treino\")\n",
    "plt.subplots_adjust(top=0.92, bottom=0.08, left=0.10, right=0.95, hspace=0.25,\n",
    "                    wspace=0.35)\n",
    "print(\"Desvio Padrão com classificação e teste diferente do treino\")\n",
    "plt.show()\n",
    "\n",
    "print(\"Desvios padrão:\")\n",
    "print('Reg. Linear\\t %1.1f' % (eixoy[0]))\n",
    "print('Arv. Decisão\\t %1.1f' % (eixoy[1]))\n",
    "print('Rand Forest\\t %1.1f' % (eixoy[2]))"
   ]
  },
  {
   "cell_type": "code",
   "execution_count": 175,
   "metadata": {},
   "outputs": [
    {
     "data": {
      "image/png": "[encoded data removed]",
      "text/plain": [
       "<Figure size 432x288 with 1 Axes>"
      ]
     },
     "metadata": {},
     "output_type": "display_data"
    },
    {
     "name": "stdout",
     "output_type": "stream",
     "text": [
      "Desvios padrão:\n",
      "Reg. Linear\t 67593.2\n",
      "Arv. Decisão\t 0.0\n",
      "Rand Forest\t 22274.6\n"
     ]
    }
   ],
   "source": [
    "\n",
    "eixox = np.arange(3)\n",
    "eixoy = avaliar(0,0)\n",
    "%matplotlib inline \n",
    "\n",
    "def millions(x, pos):\n",
    "    'The two args are the value and tick position'\n",
    "    return '%1.1f' % (x * 1e-4)\n",
    "from matplotlib.ticker import FuncFormatter\n",
    "import matplotlib.pyplot as plt\n",
    "#formatter = FuncFormatter(millions)###BATSA REMOVER ESTE\n",
    "fig, ax = plt.subplots()\n",
    "#ax.yaxis.set_major_formatter(formatter)\n",
    "plt.bar(eixox, eixoy)\n",
    "plt.xticks(eixox, ('Reg. Linear', 'Arv. Decisão', 'Rand Forest'))\n",
    "plt.title(\"Desvio Padrão sem classificação, e teste igual ao treino\")\n",
    "plt.show()\n",
    "\n",
    "print(\"Desvios padrão:\")\n",
    "print('Reg. Linear\\t %1.1f' % (eixoy[0]))\n",
    "print('Arv. Decisão\\t %1.1f' % (eixoy[1]))\n",
    "print('Rand Forest\\t %1.1f' % (eixoy[2]))"
   ]
  },
  {
   "cell_type": "code",
   "execution_count": 176,
   "metadata": {},
   "outputs": [
    {
     "name": "stdout",
     "output_type": "stream",
     "text": [
      "Desvio Padrão sem classificação, e teste diferente do treino\n"
     ]
    },
    {
     "data": {
      "text/plain": [
       "<Figure size 432x288 with 0 Axes>"
      ]
     },
     "metadata": {},
     "output_type": "display_data"
    },
    {
     "data": {
      "image/png": "[encoded data removed]",
      "text/plain": [
       "<Figure size 432x288 with 2 Axes>"
      ]
     },
     "metadata": {},
     "output_type": "display_data"
    },
    {
     "name": "stdout",
     "output_type": "stream",
     "text": [
      "Desvios padrão:\n",
      "Reg. Linear\t 1950151539100287.2\n",
      "Arv. Decisão\t 103967.9\n",
      "Rand Forest\t 82873.1\n"
     ]
    }
   ],
   "source": [
    "eixox = np.arange(3)\n",
    "eixoy = avaliar(1, 0)\n",
    "%matplotlib inline \n",
    "\n",
    "def millions(x, pos):\n",
    "    'The two args are the value and tick position'\n",
    "    return '%1.1f' % (x * 1e-4)\n",
    "from matplotlib.ticker import FuncFormatter\n",
    "import matplotlib.pyplot as plt\n",
    "#formatter = FuncFormatter(millions)###BATSA REMOVER ESTE\n",
    "plt.figure(1)\n",
    "fig, ax = plt.subplots()\n",
    "#ax.yaxis.set_major_formatter(formatter)\n",
    "plt.subplot(231)\n",
    "plt.bar(eixox, eixoy)\n",
    "plt.xticks(eixox, ('Reg. Linear', 'Arv. Decisão', 'Rand Forest'), rotation='vertical')\n",
    "#plt.title(\"Desvio Padrão c/ classificação c/ teste != treino\")\n",
    "\n",
    "plt.subplot(233)\n",
    "plt.bar(eixox[1:], eixoy[1:])\n",
    "plt.xticks(eixox, (' ','Arv. Decisão', 'Rand Forest'), rotation='vertical')\n",
    "#plt.title(\"Desvio Padrão c/ classificação c/ teste != treino\")\n",
    "plt.subplots_adjust(top=0.92, bottom=0.08, left=0.10, right=0.95, hspace=0.25,\n",
    "                    wspace=0.35)\n",
    "print(\"Desvio Padrão sem classificação, e teste diferente do treino\")\n",
    "plt.show()\n",
    "\n",
    "print(\"Desvios padrão:\")\n",
    "print('Reg. Linear\\t %1.1f' % (eixoy[0]))\n",
    "print('Arv. Decisão\\t %1.1f' % (eixoy[1]))\n",
    "print('Rand Forest\\t %1.1f' % (eixoy[2]))"
   ]
  },
  {
   "cell_type": "code",
   "execution_count": null,
   "metadata": {},
   "outputs": [],
   "source": []
  }
 ],
 "metadata": {
  "kernelspec": {
   "display_name": "Python 3",
   "language": "python",
   "name": "python3"
  },
  "language_info": {
   "codemirror_mode": {
    "name": "ipython",
    "version": 3
   },
   "file_extension": ".py",
   "mimetype": "text/x-python",
   "name": "python",
   "nbconvert_exporter": "python",
   "pygments_lexer": "ipython3",
   "version": "3.6.4"
  }
 },
 "nbformat": 4,
 "nbformat_minor": 2
}
